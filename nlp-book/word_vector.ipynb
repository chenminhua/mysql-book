{
 "cells": [
  {
   "cell_type": "markdown",
   "metadata": {},
   "source": [
    "the vast majority of rule-based and statistical NLP work regards words as atomic symbols.\n",
    "\n",
    "## one-hot representation  \n",
    "\n",
    "[0 0 0 0 0 0 0 1 0 0 0 0 ]\n",
    "\n",
    "维度太高。\n",
    "如果用户搜索seattle motel，我们希望能够match到包含seattle hotel的文档。\n",
    "无法表达词与词之间的关系。\n",
    "\n",
    "## Distributional similarity based representations\n",
    "one of the most successful ideas of modern statistical NLP\n",
    "\n",
    "we will build a dense vector for each word, chosen so that it it good at predicting other words appearing in its context\n",
    "\n",
    "## basic idea of word embeddings\n",
    "\n",
    "\n",
    "## main idea of word2vec\n",
    "predict between every word and its context words\n",
    "\n",
    "两种算法：\n",
    "    skip-grams(SG) 给定目标词预测context words\n",
    "    continuous bag of words(CBOW) 从bag of words context中预测target word\n",
    "    \n",
    "两种训练方法：\n",
    "    hierarchical softmax\n",
    "    negative sampling\n",
    "    naive softmax\n"
   ]
  }
 ],
 "metadata": {
  "kernelspec": {
   "display_name": "tensorflow",
   "language": "python",
   "name": "tensorflow"
  },
  "language_info": {
   "codemirror_mode": {
    "name": "ipython",
    "version": 3
   },
   "file_extension": ".py",
   "mimetype": "text/x-python",
   "name": "python",
   "nbconvert_exporter": "python",
   "pygments_lexer": "ipython3",
   "version": "3.5.6"
  }
 },
 "nbformat": 4,
 "nbformat_minor": 2
}
